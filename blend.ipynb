{
  "nbformat": 4,
  "nbformat_minor": 0,
  "metadata": {
    "colab": {
      "name": "Untitled4.ipynb",
      "provenance": [],
      "collapsed_sections": []
    },
    "kernelspec": {
      "name": "python3",
      "display_name": "Python 3"
    }
  },
  "cells": [
    {
      "cell_type": "markdown",
      "metadata": {
        "id": "MsCzXfA7ebay"
      },
      "source": [
        "# Blend"
      ]
    },
    {
      "cell_type": "code",
      "metadata": {
        "id": "qhwjqCfeHbh5"
      },
      "source": [
        "!ls"
      ],
      "execution_count": null,
      "outputs": []
    },
    {
      "cell_type": "code",
      "metadata": {
        "id": "5bvrNWfYJ0fd"
      },
      "source": [
        "rsn50 = pd.read_csv('resnet50_base.csv')\n",
        "rsn34 = pd.read_csv('resnet34_base.csv')\n",
        "rsn34sch = pd.read_csv('resnet34_with_scheduler.csv')"
      ],
      "execution_count": null,
      "outputs": []
    },
    {
      "cell_type": "code",
      "metadata": {
        "id": "gUQ6FG3vet64"
      },
      "source": [
        "blend = rsn34.copy()\n",
        "cols = blend.columns[1:]"
      ],
      "execution_count": null,
      "outputs": []
    },
    {
      "cell_type": "code",
      "metadata": {
        "id": "eu7-RNjXe-PB"
      },
      "source": [
        "blend[cols] = (rsn34[cols] + rsn34sch[cols])/2"
      ],
      "execution_count": null,
      "outputs": []
    },
    {
      "cell_type": "code",
      "metadata": {
        "id": "kTGsr9MyUzQP"
      },
      "source": [
        "blend[cols] = (blend[cols]*0.9 + rsn50[cols]*0.1)"
      ],
      "execution_count": null,
      "outputs": []
    },
    {
      "cell_type": "code",
      "metadata": {
        "id": "O4FzTK7BfPAk"
      },
      "source": [
        "blend.describe()"
      ],
      "execution_count": null,
      "outputs": []
    },
    {
      "cell_type": "code",
      "metadata": {
        "id": "MEqjbbY1fRrq"
      },
      "source": [
        "blend.to_csv('final_submission.csv', index=False)"
      ],
      "execution_count": null,
      "outputs": []
    }
  ]
}